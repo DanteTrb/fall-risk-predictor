{
 "cells": [
  {
   "cell_type": "markdown",
   "metadata": {},
   "source": [
    "## Pulizia & PreProcessing"
   ]
  },
  {
   "cell_type": "code",
   "execution_count": null,
   "metadata": {},
   "outputs": [
    {
     "name": "stdout",
     "output_type": "stream",
     "text": [
      "✅ Dataset caricato con shape: (71, 48)\n",
      "📋 Colonne dopo cleaning:\n",
      " ['id', 'cognome', 'nome', 'sede', 'data_di_valutazione', 'hr_v', 'hr_ml', 'hr_ap', '%det_v', '%det_ml', '%det_ap', 'sex_m1_f2', 'age', 'heigth', 'weigth', 'age_onset', 'duration_years', 'onset_1early_49_2_middle_50-69_3late_70_', 'ledd', 'postural_alteration_1si2no', 'camptocromico1_torre_di_pisa2_flessione_dorsale3_inclinazione_laterale4', 'falls_last_year_1si_2no', 'updrs-ii', 'updrs-iii', 'motor_updrs', 'h-y', 'tilt', 'obliquity', 'rotation', 'stance', 'swing', 'double_support', 'single_support', 'stride_length', 'cadence', 'gait_speed', 'stipsi_1si_2no', 'iposmia_1si_2no', 'disturbo_sonno_rem_1si_2no', 'depressione_1si_2no', 'mesi_osservati', 'anni_osservati', 'total_falls', 'cadute_con_frattura', 'falls_month_rate', 'falls_year_rate', 'fallers_1_nonfaller_0', 'recurrent_fallers1_nonfallers_occasional0']\n",
      "📋 Colonne disponibili: ['hr_v', 'hr_ml', 'hr_ap', '%det_v', '%det_ml', '%det_ap', 'sex_m1_f2', 'age', 'heigth', 'weigth', 'age_onset', 'duration_years', 'onset_1early_49_2_middle_50-69_3late_70_', 'ledd', 'postural_alteration_1si2no', 'falls_last_year_1si_2no', 'updrs-ii', 'updrs-iii', 'h-y', 'tilt', 'obliquity', 'rotation', 'stance', 'swing', 'double_support', 'single_support', 'stride_length', 'cadence', 'gait_speed', 'stipsi_1si_2no', 'iposmia_1si_2no', 'disturbo_sonno_rem_1si_2no', 'depressione_1si_2no', 'mesi_osservati', 'anni_osservati', 'total_falls', 'cadute_con_frattura', 'falls_month_rate', 'falls_year_rate', 'fallers_1_nonfaller_0', 'recurrent_fallers1_nonfallers_occasional0', 'sex_m1_f2_code', 'postural_alteration_1si2no_code', 'falls_last_year_1si_2no_code', 'stipsi_1si_2no_code', 'iposmia_1si_2no_code', 'disturbo_sonno_rem_1si_2no_code', 'depressione_1si_2no_code']\n",
      "✅ Dataset pulito salvato con shape: (71, 48)\n"
     ]
    }
   ],
   "source": [
    "# 01_preprocessing.ipynb\n",
    "\n",
    "import pandas as pd\n",
    "import numpy as np\n",
    "import matplotlib.pyplot as plt\n",
    "import seaborn as sns\n",
    "import os\n",
    "\n",
    "# === 1. Caricamento ===\n",
    "file_path = \"../data/Db_Cadute_ICOT.xlsx\"\n",
    "df = pd.read_excel(file_path)\n",
    "print(\"✅ Dataset caricato con shape:\", df.shape)\n",
    "\n",
    "# === 2. Standardizzazione nomi colonne ===\n",
    "df.columns = (\n",
    "    df.columns\n",
    "    .str.strip()\n",
    "    .str.lower()\n",
    "    .str.replace(\" \", \"_\")\n",
    "    .str.replace(\"\\n\", \"_\")\n",
    "    .str.replace(\"(\", \"\")\n",
    "    .str.replace(\")\", \"\")\n",
    "    .str.replace(\"=\", \"\")\n",
    "    .str.replace(\">\", \"\")\n",
    "    .str.replace(\"<\", \"\")\n",
    "    .str.replace(\"/\", \"_\")\n",
    "    .str.replace(\",\", \"\")\n",
    ")\n",
    "\n",
    "# Visualizza nomi standardizzati\n",
    "print(\"📋 Colonne dopo cleaning:\\n\", df.columns.tolist())\n",
    "\n",
    "# === 3. Rimozione colonne identificative ===\n",
    "id_cols = ['id', 'cognome', 'nome', 'sede', 'data_di_valutazione']\n",
    "df.drop(columns=id_cols, inplace=True, errors='ignore')\n",
    "\n",
    "# === 4. Rimozione colonne con > 40% NaN ===\n",
    "df = df.loc[:, df.isnull().mean() < 0.4]\n",
    "\n",
    "# === 5. Eliminazione duplicati (solo per sicurezza) ===\n",
    "df.drop_duplicates(inplace=True)\n",
    "\n",
    "# === 6. Analisi missing e imputazione ===\n",
    "# - imputazione media sulle variabili numeriche\n",
    "for col in df.select_dtypes(include=['float64', 'int64']).columns:\n",
    "    if df[col].isnull().sum() > 0:\n",
    "        df[col] = df[col].fillna(df[col].mean())\n",
    "\n",
    "# === 7. Codifica variabili categoriche ===\n",
    "# Individua le categoriche (quelle con valori 1/2, 1/2/3 ecc.)\n",
    "cat_vars = [\n",
    "    'sex_m1_f2', 'postural_alteration_1si2no',\n",
    "    'camptocromico1__torre_di_pisa2_flessione_dorsale3_inclinazione_laterale4',\n",
    "    'falls_last_year_1si_2no',\n",
    "    'stipsi_1si_2no', 'iposmia_1si_2no',\n",
    "    'disturbo_sonno_rem_1si_2no', 'depressione_1si_2no',\n",
    "    'onset_1early__49_2_middle_50-69_3late_70_'\n",
    "]\n",
    "\n",
    "from sklearn.preprocessing import LabelEncoder\n",
    "\n",
    "encoders = {}\n",
    "for col in cat_vars:\n",
    "    if col in df.columns:\n",
    "        df[col] = df[col].astype(str)\n",
    "        le = LabelEncoder()\n",
    "        df[col + '_code'] = le.fit_transform(df[col])\n",
    "        encoders[col] = le\n",
    "\n",
    "print(\"📋 Colonne disponibili:\", df.columns.tolist())\n",
    "\n",
    "# === 8. Costruzione feature set + target ===\n",
    "target_vars = [\n",
    "    'total_falls',\n",
    "    'falls_month_rate',\n",
    "    'falls_year_rate',\n",
    "    'fallers_1_nonfaller_0',\n",
    "    'recurrent_fallers1_nonfallers_occasional0'\n",
    "]\n",
    "\n",
    "# Rimuove eventuali duplicati tra feature e target\n",
    "features = df.drop(columns=target_vars, errors='ignore').columns.tolist()\n",
    "df_model = df[features + target_vars].copy()\n",
    "\n",
    "# === 9. Salva dataset clean ===\n",
    "df_model.to_csv(\"../data/df_fallrisk_clean.csv\", index=False)\n",
    "print(\"✅ Dataset pulito salvato con shape:\", df_model.shape)"
   ]
  }
 ],
 "metadata": {
  "kernelspec": {
   "display_name": ".venv",
   "language": "python",
   "name": "python3"
  },
  "language_info": {
   "codemirror_mode": {
    "name": "ipython",
    "version": 3
   },
   "file_extension": ".py",
   "mimetype": "text/x-python",
   "name": "python",
   "nbconvert_exporter": "python",
   "pygments_lexer": "ipython3",
   "version": "3.11.7"
  }
 },
 "nbformat": 4,
 "nbformat_minor": 2
}
